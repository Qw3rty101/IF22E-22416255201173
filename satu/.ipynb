{
 "cells": [
  {
   "cell_type": "code",
   "execution_count": 20,
   "metadata": {},
   "outputs": [
    {
     "data": {
      "text/plain": [
       "<bound method NDFrame.head of      sepal_length  sepal_width  petal_length  petal_width    species\n",
       "0             5.1          3.5      0.875469          0.2     setosa\n",
       "1             4.9          3.0      0.875469          0.2     setosa\n",
       "2             4.7          3.2      0.832909          0.2     setosa\n",
       "3             4.6          3.1      0.916291          0.2     setosa\n",
       "4             5.0          3.6      0.875469          0.2     setosa\n",
       "..            ...          ...           ...          ...        ...\n",
       "145           6.7          3.0      1.824549          2.3  virginica\n",
       "146           6.3          2.5      1.791759          1.9  virginica\n",
       "147           6.5          3.0      1.824549          2.0  virginica\n",
       "148           6.2          3.4      1.856298          2.3  virginica\n",
       "149           5.9          3.0      1.808289          1.8  virginica\n",
       "\n",
       "[150 rows x 5 columns]>"
      ]
     },
     "execution_count": 20,
     "metadata": {},
     "output_type": "execute_result"
    }
   ],
   "source": [
    "import numpy as np\n",
    "import seaborn as sns\n",
    "import pandas as pd\n",
    "\n",
    "\n",
    "data = sns.load_dataset('iris')\n",
    "\n",
    "features = ['petal_length']\n",
    "\n",
    "data[features] = np.log1p(data[features])\n",
    "data.head\n",
    "\n",
    "features = 'sepal_length'\n",
    "\n",
    "data[features] = pd.cut(data[features], bins=3, labels=['Low', 'Medium', 'High'])\n",
    "data.head()\n",
    "\n"
   ]
  }
 ],
 "metadata": {
  "kernelspec": {
   "display_name": "Python 3",
   "language": "python",
   "name": "python3"
  },
  "language_info": {
   "codemirror_mode": {
    "name": "ipython",
    "version": 3
   },
   "file_extension": ".py",
   "mimetype": "text/x-python",
   "name": "python",
   "nbconvert_exporter": "python",
   "pygments_lexer": "ipython3",
   "version": "3.10.11"
  }
 },
 "nbformat": 4,
 "nbformat_minor": 2
}
